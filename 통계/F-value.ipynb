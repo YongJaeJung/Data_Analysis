{
 "cells": [
  {
   "cell_type": "code",
   "execution_count": 25,
   "id": "ebf4cb33",
   "metadata": {
    "ExecuteTime": {
     "end_time": "2022-01-07T02:43:34.676714Z",
     "start_time": "2022-01-07T02:43:33.952511Z"
    }
   },
   "outputs": [],
   "source": [
    "from scipy import stats\n",
    "import numpy as np"
   ]
  },
  {
   "cell_type": "code",
   "execution_count": 31,
   "id": "74e4257a",
   "metadata": {
    "ExecuteTime": {
     "end_time": "2022-01-07T02:46:05.651841Z",
     "start_time": "2022-01-07T02:46:05.635841Z"
    }
   },
   "outputs": [],
   "source": [
    "a = np.array([95,105,98,103,107])\n",
    "b = np.array([110,125,105,113,120])\n",
    "c = np.concatenate([a,b])"
   ]
  },
  {
   "cell_type": "code",
   "execution_count": 44,
   "id": "4aeec906",
   "metadata": {
    "ExecuteTime": {
     "end_time": "2022-01-07T05:22:05.210447Z",
     "start_time": "2022-01-07T05:22:05.205449Z"
    }
   },
   "outputs": [],
   "source": [
    "def f_val(groups):\n",
    "    \n",
    "    avg_whole = np.mean(np.concatenate(groups))\n",
    "    \n",
    "    var_between_group = np.sum([(np.mean(group) - avg_whole)**2 * len(group) for group in groups])/(len(groups)-1)\n",
    "    \n",
    "    var_inner_group = np.sum([ (value-np.mean(group))**2 for group in groups for value in group]) / (len(np.concatenate(groups))-len(groups))\n",
    "    \n",
    "    return var_between_group / var_inner_group"
   ]
  },
  {
   "cell_type": "code",
   "execution_count": 45,
   "id": "c2de55a6",
   "metadata": {
    "ExecuteTime": {
     "end_time": "2022-01-07T05:22:05.690747Z",
     "start_time": "2022-01-07T05:22:05.684748Z"
    }
   },
   "outputs": [
    {
     "data": {
      "text/plain": [
       "9.591373439273552"
      ]
     },
     "execution_count": 45,
     "metadata": {},
     "output_type": "execute_result"
    }
   ],
   "source": [
    "f_val([a,b])"
   ]
  },
  {
   "cell_type": "code",
   "execution_count": 43,
   "id": "be21a4de",
   "metadata": {
    "ExecuteTime": {
     "end_time": "2022-01-07T05:21:52.761424Z",
     "start_time": "2022-01-07T05:21:52.755423Z"
    }
   },
   "outputs": [
    {
     "data": {
      "text/plain": [
       "9.591373439273553"
      ]
     },
     "execution_count": 43,
     "metadata": {},
     "output_type": "execute_result"
    }
   ],
   "source": [
    "stats.f_oneway(a,b)[0]"
   ]
  }
 ],
 "metadata": {
  "kernelspec": {
   "display_name": "Python 3 (ipykernel)",
   "language": "python",
   "name": "python3"
  },
  "language_info": {
   "codemirror_mode": {
    "name": "ipython",
    "version": 3
   },
   "file_extension": ".py",
   "mimetype": "text/x-python",
   "name": "python",
   "nbconvert_exporter": "python",
   "pygments_lexer": "ipython3",
   "version": "3.7.11"
  },
  "toc": {
   "base_numbering": 1,
   "nav_menu": {},
   "number_sections": true,
   "sideBar": true,
   "skip_h1_title": false,
   "title_cell": "Table of Contents",
   "title_sidebar": "Contents",
   "toc_cell": false,
   "toc_position": {},
   "toc_section_display": true,
   "toc_window_display": false
  },
  "varInspector": {
   "cols": {
    "lenName": 16,
    "lenType": 16,
    "lenVar": 40
   },
   "kernels_config": {
    "python": {
     "delete_cmd_postfix": "",
     "delete_cmd_prefix": "del ",
     "library": "var_list.py",
     "varRefreshCmd": "print(var_dic_list())"
    },
    "r": {
     "delete_cmd_postfix": ") ",
     "delete_cmd_prefix": "rm(",
     "library": "var_list.r",
     "varRefreshCmd": "cat(var_dic_list()) "
    }
   },
   "types_to_exclude": [
    "module",
    "function",
    "builtin_function_or_method",
    "instance",
    "_Feature"
   ],
   "window_display": false
  }
 },
 "nbformat": 4,
 "nbformat_minor": 5
}
