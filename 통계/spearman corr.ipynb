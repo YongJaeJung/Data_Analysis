{
 "cells": [
  {
   "cell_type": "code",
   "execution_count": 1,
   "id": "cebae806",
   "metadata": {
    "ExecuteTime": {
     "end_time": "2021-11-11T13:31:00.359003Z",
     "start_time": "2021-11-11T13:30:58.486479Z"
    }
   },
   "outputs": [],
   "source": [
    "from scipy.stats import spearmanr\n",
    "import numpy as np\n",
    "from collections import defaultdict"
   ]
  },
  {
   "cell_type": "code",
   "execution_count": 2,
   "id": "f7841ddb",
   "metadata": {
    "ExecuteTime": {
     "end_time": "2021-11-11T13:31:00.404004Z",
     "start_time": "2021-11-11T13:31:00.391005Z"
    }
   },
   "outputs": [],
   "source": [
    "x = np.array([1,2,3,4,5])\n",
    "y = np.array([3,7,6,7,8])"
   ]
  },
  {
   "cell_type": "code",
   "execution_count": 3,
   "id": "74581f30",
   "metadata": {
    "ExecuteTime": {
     "end_time": "2021-11-11T13:31:00.480272Z",
     "start_time": "2021-11-11T13:31:00.435004Z"
    }
   },
   "outputs": [
    {
     "data": {
      "text/plain": [
       "SpearmanrResult(correlation=0.8207826816681233, pvalue=0.08858700531354381)"
      ]
     },
     "execution_count": 3,
     "metadata": {},
     "output_type": "execute_result"
    }
   ],
   "source": [
    "spearmanr(x,y)"
   ]
  },
  {
   "cell_type": "code",
   "execution_count": 7,
   "id": "af8df198",
   "metadata": {
    "ExecuteTime": {
     "end_time": "2021-11-11T13:33:45.230702Z",
     "start_time": "2021-11-11T13:33:45.223702Z"
    }
   },
   "outputs": [
    {
     "data": {
      "text/plain": [
       "1.0"
      ]
     },
     "execution_count": 7,
     "metadata": {},
     "output_type": "execute_result"
    }
   ],
   "source": [
    "def spaerman_corr(x,y):\n",
    "    x_rank = defaultdict(list)\n",
    "    y_rank = defaultdict(list)\n",
    "    \n",
    "    for i,data in enumerate(x):\n",
    "        x_rank[data].append(i)\n",
    "        \n",
    "    for i,data in enumerate(y):\n",
    "        y_rank[data].append(i)\n",
    "        \n",
    "    ssd = np.sum([ x_rank[x].pop(0) - y_rank[y].pop(0) for x,y in zip(sorted(x),sorted(y))])\n",
    "    \n",
    "    p = 1 - (ssd*6)/(len(x)*(np.square(len(x))-1))\n",
    "    \n",
    "    return p\n",
    "\n",
    "spaerman_corr(x,y)"
   ]
  },
  {
   "cell_type": "code",
   "execution_count": null,
   "id": "polish-gateway",
   "metadata": {},
   "outputs": [],
   "source": []
  }
 ],
 "metadata": {
  "kernelspec": {
   "display_name": "Python 3",
   "language": "python",
   "name": "python3"
  },
  "language_info": {
   "codemirror_mode": {
    "name": "ipython",
    "version": 3
   },
   "file_extension": ".py",
   "mimetype": "text/x-python",
   "name": "python",
   "nbconvert_exporter": "python",
   "pygments_lexer": "ipython3",
   "version": "3.9.1"
  },
  "toc": {
   "base_numbering": 1,
   "nav_menu": {},
   "number_sections": true,
   "sideBar": true,
   "skip_h1_title": false,
   "title_cell": "Table of Contents",
   "title_sidebar": "Contents",
   "toc_cell": false,
   "toc_position": {},
   "toc_section_display": true,
   "toc_window_display": false
  },
  "varInspector": {
   "cols": {
    "lenName": 16,
    "lenType": 16,
    "lenVar": 40
   },
   "kernels_config": {
    "python": {
     "delete_cmd_postfix": "",
     "delete_cmd_prefix": "del ",
     "library": "var_list.py",
     "varRefreshCmd": "print(var_dic_list())"
    },
    "r": {
     "delete_cmd_postfix": ") ",
     "delete_cmd_prefix": "rm(",
     "library": "var_list.r",
     "varRefreshCmd": "cat(var_dic_list()) "
    }
   },
   "types_to_exclude": [
    "module",
    "function",
    "builtin_function_or_method",
    "instance",
    "_Feature"
   ],
   "window_display": false
  }
 },
 "nbformat": 4,
 "nbformat_minor": 5
}
